{
  "nbformat": 4,
  "nbformat_minor": 0,
  "metadata": {
    "colab": {
      "name": "ViT.ipynb",
      "provenance": [],
      "collapsed_sections": [],
      "authorship_tag": "ABX9TyMxfvZSuoN3UUKJX8FZi2MQ",
      "include_colab_link": true
    },
    "kernelspec": {
      "name": "python3",
      "display_name": "Python 3"
    },
    "language_info": {
      "name": "python"
    },
    "accelerator": "GPU",
    "gpuClass": "standard",
    "widgets": {
      "application/vnd.jupyter.widget-state+json": {
        "bef0f7a8f37745af853bcb9f0ecbd091": {
          "model_module": "@jupyter-widgets/controls",
          "model_name": "HBoxModel",
          "model_module_version": "1.5.0",
          "state": {
            "_dom_classes": [],
            "_model_module": "@jupyter-widgets/controls",
            "_model_module_version": "1.5.0",
            "_model_name": "HBoxModel",
            "_view_count": null,
            "_view_module": "@jupyter-widgets/controls",
            "_view_module_version": "1.5.0",
            "_view_name": "HBoxView",
            "box_style": "",
            "children": [
              "IPY_MODEL_b846dbf8f4524f4f972c53435fe7addc",
              "IPY_MODEL_a2b5f73f6aeb4533a5654d25c1076590",
              "IPY_MODEL_d98353796f8346af82798f622195a929"
            ],
            "layout": "IPY_MODEL_0b8861d168ac4d3f8c2bad3b83eb7299"
          }
        },
        "b846dbf8f4524f4f972c53435fe7addc": {
          "model_module": "@jupyter-widgets/controls",
          "model_name": "HTMLModel",
          "model_module_version": "1.5.0",
          "state": {
            "_dom_classes": [],
            "_model_module": "@jupyter-widgets/controls",
            "_model_module_version": "1.5.0",
            "_model_name": "HTMLModel",
            "_view_count": null,
            "_view_module": "@jupyter-widgets/controls",
            "_view_module_version": "1.5.0",
            "_view_name": "HTMLView",
            "description": "",
            "description_tooltip": null,
            "layout": "IPY_MODEL_1ea3832324204df0a4cb296d237c4a2f",
            "placeholder": "​",
            "style": "IPY_MODEL_896e1a228a16463092bde37f43395b95",
            "value": "100%"
          }
        },
        "a2b5f73f6aeb4533a5654d25c1076590": {
          "model_module": "@jupyter-widgets/controls",
          "model_name": "FloatProgressModel",
          "model_module_version": "1.5.0",
          "state": {
            "_dom_classes": [],
            "_model_module": "@jupyter-widgets/controls",
            "_model_module_version": "1.5.0",
            "_model_name": "FloatProgressModel",
            "_view_count": null,
            "_view_module": "@jupyter-widgets/controls",
            "_view_module_version": "1.5.0",
            "_view_name": "ProgressView",
            "bar_style": "success",
            "description": "",
            "description_tooltip": null,
            "layout": "IPY_MODEL_9cf43fbb46b7434aa5eb077e86da9fa0",
            "max": 1,
            "min": 0,
            "orientation": "horizontal",
            "style": "IPY_MODEL_c205ba0100d143e3803d19856088daba",
            "value": 1
          }
        },
        "d98353796f8346af82798f622195a929": {
          "model_module": "@jupyter-widgets/controls",
          "model_name": "HTMLModel",
          "model_module_version": "1.5.0",
          "state": {
            "_dom_classes": [],
            "_model_module": "@jupyter-widgets/controls",
            "_model_module_version": "1.5.0",
            "_model_name": "HTMLModel",
            "_view_count": null,
            "_view_module": "@jupyter-widgets/controls",
            "_view_module_version": "1.5.0",
            "_view_name": "HTMLView",
            "description": "",
            "description_tooltip": null,
            "layout": "IPY_MODEL_8f58024d764349e9b643c3f2c1906f60",
            "placeholder": "​",
            "style": "IPY_MODEL_46f68c6a0f744405a357a23eec42cc4c",
            "value": " 1/1 [00:00&lt;00:00, 10.07it/s]"
          }
        },
        "0b8861d168ac4d3f8c2bad3b83eb7299": {
          "model_module": "@jupyter-widgets/base",
          "model_name": "LayoutModel",
          "model_module_version": "1.2.0",
          "state": {
            "_model_module": "@jupyter-widgets/base",
            "_model_module_version": "1.2.0",
            "_model_name": "LayoutModel",
            "_view_count": null,
            "_view_module": "@jupyter-widgets/base",
            "_view_module_version": "1.2.0",
            "_view_name": "LayoutView",
            "align_content": null,
            "align_items": null,
            "align_self": null,
            "border": null,
            "bottom": null,
            "display": null,
            "flex": null,
            "flex_flow": null,
            "grid_area": null,
            "grid_auto_columns": null,
            "grid_auto_flow": null,
            "grid_auto_rows": null,
            "grid_column": null,
            "grid_gap": null,
            "grid_row": null,
            "grid_template_areas": null,
            "grid_template_columns": null,
            "grid_template_rows": null,
            "height": null,
            "justify_content": null,
            "justify_items": null,
            "left": null,
            "margin": null,
            "max_height": null,
            "max_width": null,
            "min_height": null,
            "min_width": null,
            "object_fit": null,
            "object_position": null,
            "order": null,
            "overflow": null,
            "overflow_x": null,
            "overflow_y": null,
            "padding": null,
            "right": null,
            "top": null,
            "visibility": null,
            "width": null
          }
        },
        "1ea3832324204df0a4cb296d237c4a2f": {
          "model_module": "@jupyter-widgets/base",
          "model_name": "LayoutModel",
          "model_module_version": "1.2.0",
          "state": {
            "_model_module": "@jupyter-widgets/base",
            "_model_module_version": "1.2.0",
            "_model_name": "LayoutModel",
            "_view_count": null,
            "_view_module": "@jupyter-widgets/base",
            "_view_module_version": "1.2.0",
            "_view_name": "LayoutView",
            "align_content": null,
            "align_items": null,
            "align_self": null,
            "border": null,
            "bottom": null,
            "display": null,
            "flex": null,
            "flex_flow": null,
            "grid_area": null,
            "grid_auto_columns": null,
            "grid_auto_flow": null,
            "grid_auto_rows": null,
            "grid_column": null,
            "grid_gap": null,
            "grid_row": null,
            "grid_template_areas": null,
            "grid_template_columns": null,
            "grid_template_rows": null,
            "height": null,
            "justify_content": null,
            "justify_items": null,
            "left": null,
            "margin": null,
            "max_height": null,
            "max_width": null,
            "min_height": null,
            "min_width": null,
            "object_fit": null,
            "object_position": null,
            "order": null,
            "overflow": null,
            "overflow_x": null,
            "overflow_y": null,
            "padding": null,
            "right": null,
            "top": null,
            "visibility": null,
            "width": null
          }
        },
        "896e1a228a16463092bde37f43395b95": {
          "model_module": "@jupyter-widgets/controls",
          "model_name": "DescriptionStyleModel",
          "model_module_version": "1.5.0",
          "state": {
            "_model_module": "@jupyter-widgets/controls",
            "_model_module_version": "1.5.0",
            "_model_name": "DescriptionStyleModel",
            "_view_count": null,
            "_view_module": "@jupyter-widgets/base",
            "_view_module_version": "1.2.0",
            "_view_name": "StyleView",
            "description_width": ""
          }
        },
        "9cf43fbb46b7434aa5eb077e86da9fa0": {
          "model_module": "@jupyter-widgets/base",
          "model_name": "LayoutModel",
          "model_module_version": "1.2.0",
          "state": {
            "_model_module": "@jupyter-widgets/base",
            "_model_module_version": "1.2.0",
            "_model_name": "LayoutModel",
            "_view_count": null,
            "_view_module": "@jupyter-widgets/base",
            "_view_module_version": "1.2.0",
            "_view_name": "LayoutView",
            "align_content": null,
            "align_items": null,
            "align_self": null,
            "border": null,
            "bottom": null,
            "display": null,
            "flex": null,
            "flex_flow": null,
            "grid_area": null,
            "grid_auto_columns": null,
            "grid_auto_flow": null,
            "grid_auto_rows": null,
            "grid_column": null,
            "grid_gap": null,
            "grid_row": null,
            "grid_template_areas": null,
            "grid_template_columns": null,
            "grid_template_rows": null,
            "height": null,
            "justify_content": null,
            "justify_items": null,
            "left": null,
            "margin": null,
            "max_height": null,
            "max_width": null,
            "min_height": null,
            "min_width": null,
            "object_fit": null,
            "object_position": null,
            "order": null,
            "overflow": null,
            "overflow_x": null,
            "overflow_y": null,
            "padding": null,
            "right": null,
            "top": null,
            "visibility": null,
            "width": null
          }
        },
        "c205ba0100d143e3803d19856088daba": {
          "model_module": "@jupyter-widgets/controls",
          "model_name": "ProgressStyleModel",
          "model_module_version": "1.5.0",
          "state": {
            "_model_module": "@jupyter-widgets/controls",
            "_model_module_version": "1.5.0",
            "_model_name": "ProgressStyleModel",
            "_view_count": null,
            "_view_module": "@jupyter-widgets/base",
            "_view_module_version": "1.2.0",
            "_view_name": "StyleView",
            "bar_color": null,
            "description_width": ""
          }
        },
        "8f58024d764349e9b643c3f2c1906f60": {
          "model_module": "@jupyter-widgets/base",
          "model_name": "LayoutModel",
          "model_module_version": "1.2.0",
          "state": {
            "_model_module": "@jupyter-widgets/base",
            "_model_module_version": "1.2.0",
            "_model_name": "LayoutModel",
            "_view_count": null,
            "_view_module": "@jupyter-widgets/base",
            "_view_module_version": "1.2.0",
            "_view_name": "LayoutView",
            "align_content": null,
            "align_items": null,
            "align_self": null,
            "border": null,
            "bottom": null,
            "display": null,
            "flex": null,
            "flex_flow": null,
            "grid_area": null,
            "grid_auto_columns": null,
            "grid_auto_flow": null,
            "grid_auto_rows": null,
            "grid_column": null,
            "grid_gap": null,
            "grid_row": null,
            "grid_template_areas": null,
            "grid_template_columns": null,
            "grid_template_rows": null,
            "height": null,
            "justify_content": null,
            "justify_items": null,
            "left": null,
            "margin": null,
            "max_height": null,
            "max_width": null,
            "min_height": null,
            "min_width": null,
            "object_fit": null,
            "object_position": null,
            "order": null,
            "overflow": null,
            "overflow_x": null,
            "overflow_y": null,
            "padding": null,
            "right": null,
            "top": null,
            "visibility": null,
            "width": null
          }
        },
        "46f68c6a0f744405a357a23eec42cc4c": {
          "model_module": "@jupyter-widgets/controls",
          "model_name": "DescriptionStyleModel",
          "model_module_version": "1.5.0",
          "state": {
            "_model_module": "@jupyter-widgets/controls",
            "_model_module_version": "1.5.0",
            "_model_name": "DescriptionStyleModel",
            "_view_count": null,
            "_view_module": "@jupyter-widgets/base",
            "_view_module_version": "1.2.0",
            "_view_name": "StyleView",
            "description_width": ""
          }
        }
      }
    }
  },
  "cells": [
    {
      "cell_type": "markdown",
      "metadata": {
        "id": "view-in-github",
        "colab_type": "text"
      },
      "source": [
        "<a href=\"https://colab.research.google.com/github/sskyau/stanford-dogs-classification-models/blob/main/ViT.ipynb\" target=\"_parent\"><img src=\"https://colab.research.google.com/assets/colab-badge.svg\" alt=\"Open In Colab\"/></a>"
      ]
    },
    {
      "cell_type": "markdown",
      "source": [
        "# **1. Environment Initialisation**"
      ],
      "metadata": {
        "id": "tH5cVAJmSmLb"
      }
    },
    {
      "cell_type": "markdown",
      "source": [
        "##1.1 Import libraries"
      ],
      "metadata": {
        "id": "ZxYJ0Ky3SsjM"
      }
    },
    {
      "cell_type": "code",
      "execution_count": null,
      "metadata": {
        "id": "IJ3huINV6NIX"
      },
      "outputs": [],
      "source": [
        "!pip install --upgrade pip\n",
        "!pip install transformers\n",
        "!pip list | grep transformers\n",
        "!pip install transformers datasets\n",
        "!pip install transformers[onnx]"
      ]
    },
    {
      "cell_type": "code",
      "source": [
        "from PIL import Image\n",
        "import requests\n",
        "import matplotlib.pyplot as plt\n",
        "import pandas as pd\n",
        "\n",
        "from transformers import ViTFeatureExtractor, ViTModel\n",
        "from datasets import load_dataset, DatasetDict\n",
        "from torch.utils.data import Dataset, DataLoader\n",
        "from sklearn.model_selection import train_test_split\n",
        "from sklearn.metrics import accuracy_score, top_k_accuracy_score\n",
        "\n",
        "import torch\n",
        "import torch.nn as nn\n",
        "import torch.nn.functional as F\n",
        "import torch.optim as optim\n",
        "\n",
        "from tqdm import tqdm "
      ],
      "metadata": {
        "id": "uhR4n0yR6btg"
      },
      "execution_count": 2,
      "outputs": []
    },
    {
      "cell_type": "code",
      "source": [
        "from google.colab import drive\n",
        "\n",
        "drive.mount('/content/gdrive/')"
      ],
      "metadata": {
        "colab": {
          "base_uri": "https://localhost:8080/"
        },
        "id": "jzkQlD9UXi37",
        "outputId": "00ce0c94-25e7-4be0-8597-b91f68dd5e20"
      },
      "execution_count": 3,
      "outputs": [
        {
          "output_type": "stream",
          "name": "stdout",
          "text": [
            "Drive already mounted at /content/gdrive/; to attempt to forcibly remount, call drive.mount(\"/content/gdrive/\", force_remount=True).\n"
          ]
        }
      ]
    },
    {
      "cell_type": "markdown",
      "source": [
        "#**2. Model Training**"
      ],
      "metadata": {
        "id": "9UGvhL5ES5ey"
      }
    },
    {
      "cell_type": "markdown",
      "source": [
        "##2.1 Load pretrained model and feature extractor"
      ],
      "metadata": {
        "id": "UeIUJXz0TBwp"
      }
    },
    {
      "cell_type": "code",
      "source": [
        "model_cp = 'google/vit-base-patch16-224-in21k'\n",
        "\n",
        "feature_extractor = ViTFeatureExtractor.from_pretrained(model_cp)\n",
        "model = ViTModel.from_pretrained(model_cp, output_attentions=True)"
      ],
      "metadata": {
        "id": "HYu2XbDO6gkW"
      },
      "execution_count": 4,
      "outputs": []
    },
    {
      "cell_type": "markdown",
      "source": [
        "##2.2 Load dataset"
      ],
      "metadata": {
        "id": "qhhfdhgPTHO1"
      }
    },
    {
      "cell_type": "code",
      "source": [
        "dataset = load_dataset(\"imagefolder\", data_files='http://vision.stanford.edu/aditya86/ImageNetDogs/images.tar')\n",
        "\n",
        "train_test_dataset = dataset['train'].train_test_split(test_size=0.2)\n",
        "\n",
        "# Split the 10% test + valid in half test, half valid\n",
        "test_valid = train_test_dataset['test'].train_test_split(test_size=0.5)\n",
        "\n",
        "train_test_valid_dataset = DatasetDict({\n",
        "    'train': train_test_dataset['train'],\n",
        "    'test': test_valid['test'],\n",
        "    'valid': test_valid['train']})\n",
        "\n",
        "train_ds = train_test_valid_dataset['train'] \n",
        "val_ds = train_test_valid_dataset['valid']\n",
        "test_ds = train_test_valid_dataset['test']"
      ],
      "metadata": {
        "colab": {
          "base_uri": "https://localhost:8080/",
          "height": 84,
          "referenced_widgets": [
            "bef0f7a8f37745af853bcb9f0ecbd091",
            "b846dbf8f4524f4f972c53435fe7addc",
            "a2b5f73f6aeb4533a5654d25c1076590",
            "d98353796f8346af82798f622195a929",
            "0b8861d168ac4d3f8c2bad3b83eb7299",
            "1ea3832324204df0a4cb296d237c4a2f",
            "896e1a228a16463092bde37f43395b95",
            "9cf43fbb46b7434aa5eb077e86da9fa0",
            "c205ba0100d143e3803d19856088daba",
            "8f58024d764349e9b643c3f2c1906f60",
            "46f68c6a0f744405a357a23eec42cc4c"
          ]
        },
        "id": "cMdU3IMP7TEL",
        "outputId": "aaab2559-f2d8-449f-aba0-9b29c123247f"
      },
      "execution_count": 5,
      "outputs": [
        {
          "output_type": "stream",
          "name": "stderr",
          "text": [
            "Using custom data configuration default-1e03d00b7bdf2244\n",
            "Reusing dataset imagefolder (/root/.cache/huggingface/datasets/imagefolder/default-1e03d00b7bdf2244/0.0.0/0fc50c79b681877cc46b23245a6ef5333d036f48db40d53765a68034bc48faff)\n"
          ]
        },
        {
          "output_type": "display_data",
          "data": {
            "text/plain": [
              "  0%|          | 0/1 [00:00<?, ?it/s]"
            ],
            "application/vnd.jupyter.widget-view+json": {
              "version_major": 2,
              "version_minor": 0,
              "model_id": "bef0f7a8f37745af853bcb9f0ecbd091"
            }
          },
          "metadata": {}
        }
      ]
    },
    {
      "cell_type": "code",
      "source": [
        "# Visualize distribution of dataset\n",
        "train_breed_list = [train_ds[dog]['label'] for dog in range(len(train_ds))]\n",
        "val_breed_list = [val_ds[dog]['label'] for dog in range(len(val_ds))]\n",
        "test_breed_list = [test_ds[dog]['label'] for dog in range(len(test_ds))]\n",
        "\n",
        "from collections import Counter\n",
        "\n",
        "train_breed_count = Counter(train_breed_list)\n",
        "val_breed_count = Counter(val_breed_list)\n",
        "test_breed_count = Counter(test_breed_list)\n",
        "\n",
        "plt.bar(range(len(train_breed_count)), train_breed_count.values(), label='train')\n",
        "plt.bar(range(len(val_breed_count)), val_breed_count.values(),label='val')\n",
        "plt.bar(range(len(test_breed_count)), test_breed_count.values(), label='test')\n",
        "plt.show()"
      ],
      "metadata": {
        "colab": {
          "base_uri": "https://localhost:8080/",
          "height": 265
        },
        "id": "ADm0wT76T_aN",
        "outputId": "5351ce3d-1f82-4637-b611-25ba9e914283"
      },
      "execution_count": 6,
      "outputs": [
        {
          "output_type": "display_data",
          "data": {
            "text/plain": [
              "<Figure size 432x288 with 1 Axes>"
            ],
            "image/png": "[encoded data removed]"
          },
          "metadata": {
            "needs_background": "light"
          }
        }
      ]
    },
    {
      "cell_type": "markdown",
      "source": [
        "##2.3 Apply image augmentation"
      ],
      "metadata": {
        "id": "mWD9A0SbTS0l"
      }
    },
    {
      "cell_type": "code",
      "source": [
        "from torchvision.transforms import (CenterCrop, \n",
        "                                    Compose, \n",
        "                                    Normalize, \n",
        "                                    RandomHorizontalFlip,\n",
        "                                    RandomResizedCrop, \n",
        "                                    RandomRotation,\n",
        "                                    RandomAutocontrast,\n",
        "                                    Resize, \n",
        "                                    ToTensor)\n",
        "\n",
        "normalize = Normalize(mean=feature_extractor.image_mean, std=feature_extractor.image_std)\n",
        "_train_transforms = Compose(\n",
        "        [\n",
        "            CenterCrop(feature_extractor.size),\n",
        "            RandomHorizontalFlip(),\n",
        "            RandomRotation(0.1),\n",
        "            RandomAutocontrast(0.1),\n",
        "            ToTensor(),\n",
        "            normalize,\n",
        "        ]\n",
        "    )\n",
        "\n",
        "_val_transforms = Compose(\n",
        "        [\n",
        "            Resize(feature_extractor.size),\n",
        "            CenterCrop(feature_extractor.size),\n",
        "            ToTensor(),\n",
        "            normalize,\n",
        "        ]\n",
        "    )\n",
        "\n",
        "def train_transforms(examples):\n",
        "    examples['image'] = [_train_transforms(image.convert(\"RGB\")) for image in examples['image']]\n",
        "    return examples\n",
        "\n",
        "def test_transforms(examples):\n",
        "    examples['image'] = [_val_transforms(image.convert(\"RGB\")) for image in examples['image']]\n",
        "    return examples\n",
        "\n",
        "train_ds.set_transform(train_transforms)\n",
        "val_ds.set_transform(test_transforms)\n",
        "test_ds.set_transform(test_transforms)\n"
      ],
      "metadata": {
        "id": "qr86nVkwJ6pj"
      },
      "execution_count": 7,
      "outputs": []
    },
    {
      "cell_type": "markdown",
      "source": [
        "##2.4 Define custom model class\n",
        "Attach a new classification block and define training computations"
      ],
      "metadata": {
        "id": "LEwEGxF4Tb-b"
      }
    },
    {
      "cell_type": "code",
      "source": [
        "class StanfordDogsViT(nn.Module):\n",
        "  def __init__(self, pretrained_vit, class_num):\n",
        "        super(StanfordDogsViT, self).__init__()\n",
        "        self.vit = pretrained_vit\n",
        "        self.fc = nn.Linear(768, class_num)\n",
        "\n",
        "  def _get_cls_vec(self, states):\n",
        "        return states['last_hidden_state'][:, 0, :]\n",
        "\n",
        "  def forward(self, input_ids):\n",
        "        states = self.vit(input_ids)\n",
        "        states = self._get_cls_vec(states)\n",
        "        states = self.fc(states)\n",
        "        return states"
      ],
      "metadata": {
        "id": "ecY8bQdp9q40"
      },
      "execution_count": 8,
      "outputs": []
    },
    {
      "cell_type": "markdown",
      "source": [
        "## 2.5 Define training cycle"
      ],
      "metadata": {
        "id": "uoBxfZF1IwPF"
      }
    },
    {
      "cell_type": "code",
      "source": [
        "BATCH_SIZE = 64\n",
        "CP_DIR = '/content/gdrive/MyDrive/Colab Notebooks/Dissertation/cp/ViT/'"
      ],
      "metadata": {
        "id": "cXK_DaN6sIn9"
      },
      "execution_count": 9,
      "outputs": []
    },
    {
      "cell_type": "code",
      "source": [
        "def train_model(epochs, model, trial, es_tolerance, FE):\n",
        "  \n",
        "  train_loader = DataLoader(train_ds, batch_size=BATCH_SIZE, shuffle=True)\n",
        "  val_loader = DataLoader(val_ds, batch_size=BATCH_SIZE, shuffle=False)\n",
        "\n",
        "  train_losses = []\n",
        "  val_losses = []\n",
        "  train_accuracies = []\n",
        "  val_accuracies = []\n",
        "  train_topk_accuracies = []\n",
        "  val_topk_accuracies = []\n",
        "\n",
        "  ES_TOLERANCE = es_tolerance\n",
        "  tolerated = 0\n",
        "  best_val_acc = 0.0\n",
        "\n",
        "\n",
        "  for epoch in tqdm(range(epochs)):\n",
        "\n",
        "    train_loss = 0.0\n",
        "    train_pred = []\n",
        "    train_all_pred = []\n",
        "    train_true = []\n",
        "\n",
        "    model.train()\n",
        "\n",
        "    for batch in tqdm(train_loader, position=0, leave=True):\n",
        "        optimizer.zero_grad()\n",
        "        input_ids = batch['image'].to(device)\n",
        "        y = batch['label'].to(device)\n",
        "        out = model(input_ids)\n",
        "        loss = loss_cal(out, y)\n",
        "        loss.backward()\n",
        "        optimizer.step()\n",
        "\n",
        "        train_pred += out.argmax(dim=1).cpu().detach().numpy().tolist()\n",
        "        train_all_pred += out.cpu().detach().numpy().tolist()\n",
        "        train_true += y.cpu().detach().numpy().tolist()\n",
        "        train_loss += loss.item()\n",
        "\n",
        "    \n",
        "    train_losses.append(train_loss)\n",
        "    train_acc = accuracy_score(train_true, train_pred)\n",
        "    train_accuracies.append(train_acc)\n",
        "    train_topk_acc = top_k_accuracy_score(train_true, train_all_pred, k=5)\n",
        "    train_topk_accuracies.append(train_topk_acc)\n",
        "\n",
        "\n",
        "    # calculate validation error and accuracy\n",
        "    val_loss = 0.0\n",
        "    val_pred = []\n",
        "    val_all_pred = []\n",
        "    val_true = []\n",
        "\n",
        "    model.eval()\n",
        "\n",
        "    for batch in tqdm(val_loader, position=0, leave=True):\n",
        "        with torch.no_grad():\n",
        "\n",
        "            input_ids = batch['image'].to(device)\n",
        "            y = batch['label'].to(device)\n",
        "            out = ViT(input_ids)\n",
        "            loss = loss_cal(out, y)\n",
        "            val_loss += loss.item()\n",
        "            _, y_pred = torch.max(out, 1)            \n",
        "            val_pred += out.argmax(dim=1).cpu().detach().numpy().tolist()\n",
        "            val_all_pred += out.cpu().detach().numpy().tolist()\n",
        "            val_true += y.cpu().detach().numpy().tolist()\n",
        "\n",
        "    \n",
        "    val_losses.append(val_loss)\n",
        "    val_acc = accuracy_score(val_true, val_pred)\n",
        "    val_accuracies.append(val_acc)\n",
        "    val_topk_acc = top_k_accuracy_score(val_true, val_all_pred, k=5)\n",
        "    val_topk_accuracies.append(val_topk_acc)\n",
        "\n",
        "\n",
        "    # Print progress\n",
        "    print()\n",
        "    print('epoch', epoch,\n",
        "          '\\ttrain loss', round(train_loss, 4), '\\ttrain accuracy', round(train_acc, 4), '\\ttrain top k accuracy', round(train_topk_acc, 4), \n",
        "          '\\tval loss', round(val_loss, 4), '\\tval accuracy', round(val_acc, 4), '\\tval top k accuracy', round(val_topk_acc, 4), \n",
        "          )\n",
        "    \n",
        "    # Early stopping\n",
        "    if best_val_acc >= val_acc:\n",
        "      if tolerated == ES_TOLERANCE:\n",
        "        print('early stopping')\n",
        "        break\n",
        "      else:\n",
        "        tolerated += 1\n",
        "        print('# epochs w/o improvements', tolerated)\n",
        "    else:\n",
        "      tolerated = 0\n",
        "      best_val_acc = val_acc\n",
        "      best_epoch = epoch\n",
        "\n",
        "      # save best model so far\n",
        "      if FE:\n",
        "        torch.save(model.state_dict(), CP_DIR + 'FE/FE-' + str(epoch) +'.pth')\n",
        "      else: \n",
        "        torch.save(model.state_dict(), CP_DIR + 'FT/FT-' + str(epoch) +'.pth')\n",
        "\n",
        "    print('current best val acc: ', best_val_acc)\n",
        "  \n",
        "  # plot training history\n",
        "  plt.figure(figsize=(15,5))\n",
        "\n",
        "  plt.subplot(1,2,1)\n",
        "  plt.plot(train_losses, '-o' , label='train loss')\n",
        "  plt.plot(val_losses, '-^', label='val loss')\n",
        "  plt.title('loss')\n",
        "  plt.legend()\n",
        "  plt.grid()\n",
        "\n",
        "  plt.subplot(1,2,2)\n",
        "  plt.plot(train_accuracies, '-o', label='train accuracy')\n",
        "  plt.plot(val_accuracies, '-^', label='val accuracy')\n",
        "  plt.title('accuracy')\n",
        "  plt.legend()\n",
        "  plt.grid()\n",
        "\n",
        "  plt.show()\n",
        "\n",
        "  # save training history\n",
        "  hist_dict = pd.DataFrame.from_dict({'train_loss': train_losses, 'train_acc': train_accuracies, 'train_topk': train_topk_accuracies, \n",
        "             'val_loss': val_losses, 'val_acc': val_accuracies, 'val_topk': val_topk_accuracies})\n",
        "\n",
        "  if FE:\n",
        "    logname = CP_DIR + 'FE-' + str(trial) + '.csv'\n",
        "  else: \n",
        "    logname = CP_DIR + 'FT-' + str(trial) + '.csv'\n",
        "\n",
        "  hist_dict.to_csv(logname, index = False, header=True)"
      ],
      "metadata": {
        "id": "TCWO46uB_q0G"
      },
      "execution_count": 10,
      "outputs": []
    },
    {
      "cell_type": "markdown",
      "source": [
        "##2.6 Feature extraction"
      ],
      "metadata": {
        "id": "9HXwoui5BQen"
      }
    },
    {
      "cell_type": "code",
      "source": [
        "ViT = StanfordDogsViT(model, 120)\n",
        "device = torch.device(\"cuda\" if torch.cuda.is_available() else \"cpu\")\n",
        "ViT.to(device)\n",
        "loss_cal = nn.CrossEntropyLoss()\n",
        "\n",
        "trial = 6"
      ],
      "metadata": {
        "id": "56VKvjlEsg3E"
      },
      "execution_count": 15,
      "outputs": []
    },
    {
      "cell_type": "code",
      "source": [
        "FE_EPOCHS = 50\n",
        "\n",
        "ES_TOLERANCE = 5\n",
        "\n",
        "\n",
        "optimizer = optim.Adam([\n",
        "    {'params': ViT.fc.parameters(), 'lr': 1e-3}\n",
        "])\n",
        "\n",
        "# Freeze all \n",
        "for param in ViT.parameters():\n",
        "    param.requires_grad = False\n",
        "\n",
        "# Unfreeze fully connected layers\n",
        "for param in ViT.fc.parameters():\n",
        "    param.requires_grad = True\n",
        "\n",
        "train_model(FE_EPOCHS, ViT, trial, ES_TOLERANCE, FE=True)"
      ],
      "metadata": {
        "colab": {
          "base_uri": "https://localhost:8080/",
          "height": 1000
        },
        "id": "2dFG8bE6-cr0",
        "outputId": "1cfa9052-3e37-4afe-a577-80ac2e31da7c"
      },
      "execution_count": 41,
      "outputs": [
        {
          "output_type": "stream",
          "name": "stderr",
          "text": [
            "100%|██████████| 258/258 [02:56<00:00,  1.46it/s]\n",
            "100%|██████████| 33/33 [00:25<00:00,  1.29it/s]\n"
          ]
        },
        {
          "output_type": "stream",
          "name": "stdout",
          "text": [
            "\n",
            "epoch 0 \ttrain loss 468.8675 \ttrain accuracy 0.8379 \ttrain top k accuracy 0.9524 \tval loss 17.1505 \tval accuracy 0.9184 \tval top k accuracy 0.9961\n"
          ]
        },
        {
          "output_type": "stream",
          "name": "stderr",
          "text": [
            "\r  2%|▏         | 1/50 [03:24<2:46:40, 204.10s/it]"
          ]
        },
        {
          "output_type": "stream",
          "name": "stdout",
          "text": [
            "current best val acc:  0.9183673469387755\n"
          ]
        },
        {
          "output_type": "stream",
          "name": "stderr",
          "text": [
            "100%|██████████| 258/258 [02:56<00:00,  1.46it/s]\n",
            "100%|██████████| 33/33 [00:24<00:00,  1.32it/s]\n",
            "  4%|▍         | 2/50 [06:46<2:42:22, 202.97s/it]"
          ]
        },
        {
          "output_type": "stream",
          "name": "stdout",
          "text": [
            "\n",
            "epoch 1 \ttrain loss 117.6502 \ttrain accuracy 0.9021 \ttrain top k accuracy 0.9888 \tval loss 11.1329 \tval accuracy 0.9184 \tval top k accuracy 0.9956\n",
            "# epochs w/o improvements 1\n",
            "current best val acc:  0.9183673469387755\n"
          ]
        },
        {
          "output_type": "stream",
          "name": "stderr",
          "text": [
            "100%|██████████| 258/258 [02:56<00:00,  1.46it/s]\n",
            "100%|██████████| 33/33 [00:24<00:00,  1.34it/s]\n",
            "  6%|▌         | 3/50 [10:07<2:38:27, 202.28s/it]"
          ]
        },
        {
          "output_type": "stream",
          "name": "stdout",
          "text": [
            "\n",
            "epoch 2 \ttrain loss 92.5505 \ttrain accuracy 0.9073 \ttrain top k accuracy 0.9915 \tval loss 9.8436 \tval accuracy 0.9179 \tval top k accuracy 0.9961\n",
            "# epochs w/o improvements 2\n",
            "current best val acc:  0.9183673469387755\n"
          ]
        },
        {
          "output_type": "stream",
          "name": "stderr",
          "text": [
            "100%|██████████| 258/258 [02:53<00:00,  1.49it/s]\n",
            "100%|██████████| 33/33 [00:24<00:00,  1.36it/s]\n",
            "  8%|▊         | 4/50 [13:25<2:33:47, 200.59s/it]"
          ]
        },
        {
          "output_type": "stream",
          "name": "stdout",
          "text": [
            "\n",
            "epoch 3 \ttrain loss 82.7994 \ttrain accuracy 0.9119 \ttrain top k accuracy 0.9928 \tval loss 9.3952 \tval accuracy 0.9184 \tval top k accuracy 0.9956\n",
            "# epochs w/o improvements 3\n",
            "current best val acc:  0.9183673469387755\n"
          ]
        },
        {
          "output_type": "stream",
          "name": "stderr",
          "text": [
            "100%|██████████| 258/258 [02:54<00:00,  1.48it/s]\n",
            "100%|██████████| 33/33 [00:24<00:00,  1.36it/s]\n"
          ]
        },
        {
          "output_type": "stream",
          "name": "stdout",
          "text": [
            "\n",
            "epoch 4 \ttrain loss 76.2049 \ttrain accuracy 0.9178 \ttrain top k accuracy 0.9944 \tval loss 9.0762 \tval accuracy 0.9213 \tval top k accuracy 0.9971\n"
          ]
        },
        {
          "output_type": "stream",
          "name": "stderr",
          "text": [
            "\r 10%|█         | 5/50 [16:45<2:30:20, 200.46s/it]"
          ]
        },
        {
          "output_type": "stream",
          "name": "stdout",
          "text": [
            "current best val acc:  0.9212827988338192\n"
          ]
        },
        {
          "output_type": "stream",
          "name": "stderr",
          "text": [
            "100%|██████████| 258/258 [02:53<00:00,  1.48it/s]\n",
            "100%|██████████| 33/33 [00:24<00:00,  1.36it/s]\n",
            " 12%|█▏        | 6/50 [20:04<2:26:31, 199.80s/it]"
          ]
        },
        {
          "output_type": "stream",
          "name": "stdout",
          "text": [
            "\n",
            "epoch 5 \ttrain loss 70.9405 \ttrain accuracy 0.9227 \ttrain top k accuracy 0.9951 \tval loss 8.9463 \tval accuracy 0.9159 \tval top k accuracy 0.9961\n",
            "# epochs w/o improvements 1\n",
            "current best val acc:  0.9212827988338192\n"
          ]
        },
        {
          "output_type": "stream",
          "name": "stderr",
          "text": [
            "100%|██████████| 258/258 [02:54<00:00,  1.48it/s]\n",
            "100%|██████████| 33/33 [00:24<00:00,  1.36it/s]\n",
            " 14%|█▍        | 7/50 [23:23<2:22:58, 199.51s/it]"
          ]
        },
        {
          "output_type": "stream",
          "name": "stdout",
          "text": [
            "\n",
            "epoch 6 \ttrain loss 66.0952 \ttrain accuracy 0.9283 \ttrain top k accuracy 0.9961 \tval loss 8.9974 \tval accuracy 0.9189 \tval top k accuracy 0.9966\n",
            "# epochs w/o improvements 2\n",
            "current best val acc:  0.9212827988338192\n"
          ]
        },
        {
          "output_type": "stream",
          "name": "stderr",
          "text": [
            "100%|██████████| 258/258 [02:53<00:00,  1.49it/s]\n",
            "100%|██████████| 33/33 [00:24<00:00,  1.36it/s]\n",
            " 16%|█▌        | 8/50 [26:41<2:19:16, 198.97s/it]"
          ]
        },
        {
          "output_type": "stream",
          "name": "stdout",
          "text": [
            "\n",
            "epoch 7 \ttrain loss 63.0946 \ttrain accuracy 0.9287 \ttrain top k accuracy 0.9965 \tval loss 8.9118 \tval accuracy 0.914 \tval top k accuracy 0.9966\n",
            "# epochs w/o improvements 3\n",
            "current best val acc:  0.9212827988338192\n"
          ]
        },
        {
          "output_type": "stream",
          "name": "stderr",
          "text": [
            "100%|██████████| 258/258 [02:54<00:00,  1.48it/s]\n",
            "100%|██████████| 33/33 [00:24<00:00,  1.36it/s]\n",
            " 18%|█▊        | 9/50 [30:00<2:15:59, 199.01s/it]"
          ]
        },
        {
          "output_type": "stream",
          "name": "stdout",
          "text": [
            "\n",
            "epoch 8 \ttrain loss 58.8498 \ttrain accuracy 0.9345 \ttrain top k accuracy 0.9974 \tval loss 8.8481 \tval accuracy 0.9159 \tval top k accuracy 0.9966\n",
            "# epochs w/o improvements 4\n",
            "current best val acc:  0.9212827988338192\n"
          ]
        },
        {
          "output_type": "stream",
          "name": "stderr",
          "text": [
            "100%|██████████| 258/258 [02:53<00:00,  1.49it/s]\n",
            "100%|██████████| 33/33 [00:24<00:00,  1.35it/s]\n",
            " 20%|██        | 10/50 [33:18<2:12:32, 198.80s/it]"
          ]
        },
        {
          "output_type": "stream",
          "name": "stdout",
          "text": [
            "\n",
            "epoch 9 \ttrain loss 55.4575 \ttrain accuracy 0.9375 \ttrain top k accuracy 0.9977 \tval loss 8.9129 \tval accuracy 0.915 \tval top k accuracy 0.9966\n",
            "# epochs w/o improvements 5\n",
            "current best val acc:  0.9212827988338192\n"
          ]
        },
        {
          "output_type": "stream",
          "name": "stderr",
          "text": [
            "100%|██████████| 258/258 [02:54<00:00,  1.48it/s]\n",
            "100%|██████████| 33/33 [00:24<00:00,  1.37it/s]\n",
            " 20%|██        | 10/50 [36:37<2:26:31, 219.79s/it]\n"
          ]
        },
        {
          "output_type": "stream",
          "name": "stdout",
          "text": [
            "\n",
            "epoch 10 \ttrain loss 53.0288 \ttrain accuracy 0.9425 \ttrain top k accuracy 0.9981 \tval loss 8.9286 \tval accuracy 0.9159 \tval top k accuracy 0.9961\n",
            "early stopping\n"
          ]
        },
        {
          "output_type": "display_data",
          "data": {
            "text/plain": [
              "<Figure size 1080x360 with 2 Axes>"
            ],
            "image/png": "[encoded data removed]"
          },
          "metadata": {
            "needs_background": "light"
          }
        }
      ]
    },
    {
      "cell_type": "markdown",
      "source": [
        "##2.7 Fine-tuning"
      ],
      "metadata": {
        "id": "GSW6T8PYHEkx"
      }
    },
    {
      "cell_type": "code",
      "source": [
        "# Load the best model\n",
        "ViT.load_state_dict(torch.load(\"/content/gdrive/MyDrive/Colab Notebooks/Dissertation/cp/ViT/FE/FE-4.pth\"))"
      ],
      "metadata": {
        "colab": {
          "base_uri": "https://localhost:8080/"
        },
        "id": "1OtUOapJYBid",
        "outputId": "dbe9ba1b-5fcd-48e3-e424-48500c119c0b"
      },
      "execution_count": 17,
      "outputs": [
        {
          "output_type": "execute_result",
          "data": {
            "text/plain": [
              "<All keys matched successfully>"
            ]
          },
          "metadata": {},
          "execution_count": 17
        }
      ]
    },
    {
      "cell_type": "code",
      "source": [
        "FT_EPOCHS = 50\n",
        "\n",
        "ES_TOLERANCE = 5\n",
        "\n",
        "optimizer = optim.Adam([\n",
        "    {'params': ViT.parameters(), 'lr': 1e-6}\n",
        "])\n",
        "\n",
        "# Unfreeze  layers\n",
        "for param in ViT.vit.parameters():\n",
        "    param.requires_grad = True\n",
        "\n",
        "train_model(FT_EPOCHS, ViT, trial, ES_TOLERANCE, FE=False)"
      ],
      "metadata": {
        "colab": {
          "base_uri": "https://localhost:8080/",
          "height": 1000
        },
        "id": "kXOadIhkE2M0",
        "outputId": "016b81c5-13d1-4ae6-e715-6d2ab710b899"
      },
      "execution_count": 18,
      "outputs": [
        {
          "output_type": "stream",
          "name": "stderr",
          "text": [
            "100%|██████████| 258/258 [06:03<00:00,  1.41s/it]\n",
            "100%|██████████| 33/33 [00:25<00:00,  1.32it/s]\n"
          ]
        },
        {
          "output_type": "stream",
          "name": "stdout",
          "text": [
            "\n",
            "epoch 0 \ttrain loss 71.115 \ttrain accuracy 0.9238 \ttrain top k accuracy 0.9946 \tval loss 7.9173 \tval accuracy 0.9305 \tval top k accuracy 0.9976\n"
          ]
        },
        {
          "output_type": "stream",
          "name": "stderr",
          "text": [
            "\r  2%|▏         | 1/50 [06:29<5:18:19, 389.78s/it]"
          ]
        },
        {
          "output_type": "stream",
          "name": "stdout",
          "text": [
            "current best val acc:  0.9305150631681244\n"
          ]
        },
        {
          "output_type": "stream",
          "name": "stderr",
          "text": [
            "100%|██████████| 258/258 [06:01<00:00,  1.40s/it]\n",
            "100%|██████████| 33/33 [00:24<00:00,  1.34it/s]\n",
            "  4%|▍         | 2/50 [12:55<5:10:07, 387.66s/it]"
          ]
        },
        {
          "output_type": "stream",
          "name": "stdout",
          "text": [
            "\n",
            "epoch 1 \ttrain loss 64.5197 \ttrain accuracy 0.9289 \ttrain top k accuracy 0.9951 \tval loss 7.7698 \tval accuracy 0.9291 \tval top k accuracy 0.9976\n",
            "# epochs w/o improvements 1\n",
            "current best val acc:  0.9305150631681244\n"
          ]
        },
        {
          "output_type": "stream",
          "name": "stderr",
          "text": [
            "100%|██████████| 258/258 [05:59<00:00,  1.39s/it]\n",
            "100%|██████████| 33/33 [00:25<00:00,  1.30it/s]\n"
          ]
        },
        {
          "output_type": "stream",
          "name": "stdout",
          "text": [
            "\n",
            "epoch 2 \ttrain loss 60.3876 \ttrain accuracy 0.9333 \ttrain top k accuracy 0.9954 \tval loss 7.6485 \tval accuracy 0.931 \tval top k accuracy 0.9976\n"
          ]
        },
        {
          "output_type": "stream",
          "name": "stderr",
          "text": [
            "\r  6%|▌         | 3/50 [19:22<5:03:05, 386.93s/it]"
          ]
        },
        {
          "output_type": "stream",
          "name": "stdout",
          "text": [
            "current best val acc:  0.9310009718172984\n"
          ]
        },
        {
          "output_type": "stream",
          "name": "stderr",
          "text": [
            "100%|██████████| 258/258 [05:59<00:00,  1.39s/it]\n",
            "100%|██████████| 33/33 [00:24<00:00,  1.34it/s]\n",
            "  8%|▊         | 4/50 [25:46<4:55:55, 385.98s/it]"
          ]
        },
        {
          "output_type": "stream",
          "name": "stdout",
          "text": [
            "\n",
            "epoch 3 \ttrain loss 56.6671 \ttrain accuracy 0.9385 \ttrain top k accuracy 0.9959 \tval loss 7.5674 \tval accuracy 0.931 \tval top k accuracy 0.9976\n",
            "# epochs w/o improvements 1\n",
            "current best val acc:  0.9310009718172984\n"
          ]
        },
        {
          "output_type": "stream",
          "name": "stderr",
          "text": [
            "100%|██████████| 258/258 [05:59<00:00,  1.40s/it]\n",
            "100%|██████████| 33/33 [00:24<00:00,  1.35it/s]\n"
          ]
        },
        {
          "output_type": "stream",
          "name": "stdout",
          "text": [
            "\n",
            "epoch 4 \ttrain loss 53.1796 \ttrain accuracy 0.9433 \ttrain top k accuracy 0.996 \tval loss 7.5106 \tval accuracy 0.9325 \tval top k accuracy 0.9976\n"
          ]
        },
        {
          "output_type": "stream",
          "name": "stderr",
          "text": [
            "\r 10%|█         | 5/50 [32:12<4:49:28, 385.96s/it]"
          ]
        },
        {
          "output_type": "stream",
          "name": "stdout",
          "text": [
            "current best val acc:  0.9324586977648203\n"
          ]
        },
        {
          "output_type": "stream",
          "name": "stderr",
          "text": [
            "100%|██████████| 258/258 [05:58<00:00,  1.39s/it]\n",
            "100%|██████████| 33/33 [00:24<00:00,  1.35it/s]\n",
            " 12%|█▏        | 6/50 [38:35<4:42:22, 385.07s/it]"
          ]
        },
        {
          "output_type": "stream",
          "name": "stdout",
          "text": [
            "\n",
            "epoch 5 \ttrain loss 50.3149 \ttrain accuracy 0.9467 \ttrain top k accuracy 0.9962 \tval loss 7.4894 \tval accuracy 0.9315 \tval top k accuracy 0.9976\n",
            "# epochs w/o improvements 1\n",
            "current best val acc:  0.9324586977648203\n"
          ]
        },
        {
          "output_type": "stream",
          "name": "stderr",
          "text": [
            "100%|██████████| 258/258 [05:58<00:00,  1.39s/it]\n",
            "100%|██████████| 33/33 [00:25<00:00,  1.28it/s]\n"
          ]
        },
        {
          "output_type": "stream",
          "name": "stdout",
          "text": [
            "\n",
            "epoch 6 \ttrain loss 47.6965 \ttrain accuracy 0.9506 \ttrain top k accuracy 0.9961 \tval loss 7.4471 \tval accuracy 0.9334 \tval top k accuracy 0.9976\n"
          ]
        },
        {
          "output_type": "stream",
          "name": "stderr",
          "text": [
            "\r 14%|█▍        | 7/50 [45:02<4:36:16, 385.50s/it]"
          ]
        },
        {
          "output_type": "stream",
          "name": "stdout",
          "text": [
            "current best val acc:  0.9334305150631681\n"
          ]
        },
        {
          "output_type": "stream",
          "name": "stderr",
          "text": [
            "100%|██████████| 258/258 [06:01<00:00,  1.40s/it]\n",
            "100%|██████████| 33/33 [00:24<00:00,  1.32it/s]\n"
          ]
        },
        {
          "output_type": "stream",
          "name": "stdout",
          "text": [
            "\n",
            "epoch 7 \ttrain loss 44.8083 \ttrain accuracy 0.9555 \ttrain top k accuracy 0.9961 \tval loss 7.4277 \tval accuracy 0.9349 \tval top k accuracy 0.9976\n"
          ]
        },
        {
          "output_type": "stream",
          "name": "stderr",
          "text": [
            "\r 16%|█▌        | 8/50 [51:30<4:30:31, 386.47s/it]"
          ]
        },
        {
          "output_type": "stream",
          "name": "stdout",
          "text": [
            "current best val acc:  0.93488824101069\n"
          ]
        },
        {
          "output_type": "stream",
          "name": "stderr",
          "text": [
            "100%|██████████| 258/258 [06:02<00:00,  1.41s/it]\n",
            "100%|██████████| 33/33 [00:25<00:00,  1.31it/s]\n"
          ]
        },
        {
          "output_type": "stream",
          "name": "stdout",
          "text": [
            "\n",
            "epoch 8 \ttrain loss 42.822 \ttrain accuracy 0.9575 \ttrain top k accuracy 0.9968 \tval loss 7.4184 \tval accuracy 0.9354 \tval top k accuracy 0.9976\n"
          ]
        },
        {
          "output_type": "stream",
          "name": "stderr",
          "text": [
            "\r 18%|█▊        | 9/50 [58:01<4:24:54, 387.67s/it]"
          ]
        },
        {
          "output_type": "stream",
          "name": "stdout",
          "text": [
            "current best val acc:  0.935374149659864\n"
          ]
        },
        {
          "output_type": "stream",
          "name": "stderr",
          "text": [
            "100%|██████████| 258/258 [06:02<00:00,  1.40s/it]\n",
            "100%|██████████| 33/33 [00:24<00:00,  1.33it/s]\n",
            " 20%|██        | 10/50 [1:04:28<4:18:23, 387.58s/it]"
          ]
        },
        {
          "output_type": "stream",
          "name": "stdout",
          "text": [
            "\n",
            "epoch 9 \ttrain loss 40.5725 \ttrain accuracy 0.9597 \ttrain top k accuracy 0.9968 \tval loss 7.4453 \tval accuracy 0.9344 \tval top k accuracy 0.9976\n",
            "# epochs w/o improvements 1\n",
            "current best val acc:  0.935374149659864\n"
          ]
        },
        {
          "output_type": "stream",
          "name": "stderr",
          "text": [
            "100%|██████████| 258/258 [05:59<00:00,  1.39s/it]\n",
            "100%|██████████| 33/33 [00:24<00:00,  1.34it/s]\n",
            " 22%|██▏       | 11/50 [1:10:53<4:11:25, 386.81s/it]"
          ]
        },
        {
          "output_type": "stream",
          "name": "stdout",
          "text": [
            "\n",
            "epoch 10 \ttrain loss 38.4258 \ttrain accuracy 0.9626 \ttrain top k accuracy 0.997 \tval loss 7.4221 \tval accuracy 0.9354 \tval top k accuracy 0.9971\n",
            "# epochs w/o improvements 2\n",
            "current best val acc:  0.935374149659864\n"
          ]
        },
        {
          "output_type": "stream",
          "name": "stderr",
          "text": [
            "100%|██████████| 258/258 [05:59<00:00,  1.39s/it]\n",
            "100%|██████████| 33/33 [00:24<00:00,  1.34it/s]\n"
          ]
        },
        {
          "output_type": "stream",
          "name": "stdout",
          "text": [
            "\n",
            "epoch 11 \ttrain loss 36.315 \ttrain accuracy 0.9639 \ttrain top k accuracy 0.9974 \tval loss 7.4268 \tval accuracy 0.9359 \tval top k accuracy 0.9976\n"
          ]
        },
        {
          "output_type": "stream",
          "name": "stderr",
          "text": [
            "\r 24%|██▍       | 12/50 [1:17:19<4:04:51, 386.62s/it]"
          ]
        },
        {
          "output_type": "stream",
          "name": "stdout",
          "text": [
            "current best val acc:  0.9358600583090378\n"
          ]
        },
        {
          "output_type": "stream",
          "name": "stderr",
          "text": [
            "100%|██████████| 258/258 [05:59<00:00,  1.39s/it]\n",
            "100%|██████████| 33/33 [00:24<00:00,  1.34it/s]\n",
            " 26%|██▌       | 13/50 [1:23:44<3:58:03, 386.04s/it]"
          ]
        },
        {
          "output_type": "stream",
          "name": "stdout",
          "text": [
            "\n",
            "epoch 12 \ttrain loss 34.8601 \ttrain accuracy 0.9664 \ttrain top k accuracy 0.9976 \tval loss 7.4483 \tval accuracy 0.9344 \tval top k accuracy 0.9971\n",
            "# epochs w/o improvements 1\n",
            "current best val acc:  0.9358600583090378\n"
          ]
        },
        {
          "output_type": "stream",
          "name": "stderr",
          "text": [
            "100%|██████████| 258/258 [05:59<00:00,  1.39s/it]\n",
            "100%|██████████| 33/33 [00:24<00:00,  1.35it/s]\n",
            " 28%|██▊       | 14/50 [1:30:09<3:51:22, 385.62s/it]"
          ]
        },
        {
          "output_type": "stream",
          "name": "stdout",
          "text": [
            "\n",
            "epoch 13 \ttrain loss 32.9473 \ttrain accuracy 0.9682 \ttrain top k accuracy 0.9978 \tval loss 7.4747 \tval accuracy 0.9349 \tval top k accuracy 0.9961\n",
            "# epochs w/o improvements 2\n",
            "current best val acc:  0.9358600583090378\n"
          ]
        },
        {
          "output_type": "stream",
          "name": "stderr",
          "text": [
            "100%|██████████| 258/258 [05:59<00:00,  1.39s/it]\n",
            "100%|██████████| 33/33 [00:25<00:00,  1.30it/s]\n",
            " 30%|███       | 15/50 [1:36:34<3:44:51, 385.47s/it]"
          ]
        },
        {
          "output_type": "stream",
          "name": "stdout",
          "text": [
            "\n",
            "epoch 14 \ttrain loss 31.1095 \ttrain accuracy 0.9698 \ttrain top k accuracy 0.9977 \tval loss 7.4903 \tval accuracy 0.9349 \tval top k accuracy 0.9961\n",
            "# epochs w/o improvements 3\n",
            "current best val acc:  0.9358600583090378\n"
          ]
        },
        {
          "output_type": "stream",
          "name": "stderr",
          "text": [
            "100%|██████████| 258/258 [05:58<00:00,  1.39s/it]\n",
            "100%|██████████| 33/33 [00:24<00:00,  1.35it/s]\n",
            " 32%|███▏      | 16/50 [1:42:57<3:38:02, 384.77s/it]"
          ]
        },
        {
          "output_type": "stream",
          "name": "stdout",
          "text": [
            "\n",
            "epoch 15 \ttrain loss 29.7429 \ttrain accuracy 0.9718 \ttrain top k accuracy 0.9978 \tval loss 7.5012 \tval accuracy 0.9359 \tval top k accuracy 0.9961\n",
            "# epochs w/o improvements 4\n",
            "current best val acc:  0.9358600583090378\n"
          ]
        },
        {
          "output_type": "stream",
          "name": "stderr",
          "text": [
            "100%|██████████| 258/258 [05:58<00:00,  1.39s/it]\n",
            "100%|██████████| 33/33 [00:24<00:00,  1.34it/s]\n",
            " 34%|███▍      | 17/50 [1:49:20<3:31:23, 384.36s/it]"
          ]
        },
        {
          "output_type": "stream",
          "name": "stdout",
          "text": [
            "\n",
            "epoch 16 \ttrain loss 28.2169 \ttrain accuracy 0.9732 \ttrain top k accuracy 0.9985 \tval loss 7.5273 \tval accuracy 0.9354 \tval top k accuracy 0.9961\n",
            "# epochs w/o improvements 5\n",
            "current best val acc:  0.9358600583090378\n"
          ]
        },
        {
          "output_type": "stream",
          "name": "stderr",
          "text": [
            "100%|██████████| 258/258 [06:01<00:00,  1.40s/it]\n",
            "100%|██████████| 33/33 [00:24<00:00,  1.34it/s]\n",
            " 34%|███▍      | 17/50 [1:55:46<3:44:44, 408.63s/it]\n"
          ]
        },
        {
          "output_type": "stream",
          "name": "stdout",
          "text": [
            "\n",
            "epoch 17 \ttrain loss 26.8206 \ttrain accuracy 0.9747 \ttrain top k accuracy 0.9985 \tval loss 7.5692 \tval accuracy 0.9339 \tval top k accuracy 0.9961\n",
            "early stopping\n"
          ]
        },
        {
          "output_type": "display_data",
          "data": {
            "text/plain": [
              "<Figure size 1080x360 with 2 Axes>"
            ],
            "image/png": "[encoded data removed]"
          },
          "metadata": {
            "needs_background": "light"
          }
        }
      ]
    },
    {
      "cell_type": "markdown",
      "source": [
        "# **3. Model Testing**"
      ],
      "metadata": {
        "id": "3MVzhWzZUf-S"
      }
    },
    {
      "cell_type": "code",
      "source": [
        "# Load the best model\n",
        "ViT.load_state_dict(torch.load(\"/content/gdrive/MyDrive/Colab Notebooks/Dissertation/cp/ViT/FT/FT-11.pth\"))"
      ],
      "metadata": {
        "colab": {
          "base_uri": "https://localhost:8080/"
        },
        "id": "KxTuPNXIvv2t",
        "outputId": "e8994206-9e7b-42fd-93be-6e156894414d"
      },
      "execution_count": 21,
      "outputs": [
        {
          "output_type": "execute_result",
          "data": {
            "text/plain": [
              "<All keys matched successfully>"
            ]
          },
          "metadata": {},
          "execution_count": 21
        }
      ]
    },
    {
      "cell_type": "code",
      "source": [
        "test_loader = DataLoader(test_ds, batch_size=BATCH_SIZE, shuffle=False)\n",
        "\n",
        "test_loss = 0.0\n",
        "test_pred = []\n",
        "test_all_pred = []\n",
        "test_true = []\n",
        "ViT.eval()\n",
        "\n",
        "for batch in tqdm(test_loader, position=0, leave=True):\n",
        "    with torch.no_grad():\n",
        "\n",
        "        input_ids = batch['image'].to(device)\n",
        "        y = batch['label'].to(device)\n",
        "        out = ViT(input_ids)\n",
        "        loss = loss_cal(out, y)\n",
        "        test_loss += loss.item()\n",
        "        _, y_pred = torch.max(out, 1)            \n",
        "        test_pred += out.argmax(dim=1).cpu().detach().numpy().tolist()\n",
        "        test_all_pred += out.cpu().detach().numpy().tolist()\n",
        "        test_true += y.cpu().detach().numpy().tolist()\n",
        "\n",
        "\n",
        "test_acc = accuracy_score(test_true, test_pred)\n",
        "test_topk_acc = top_k_accuracy_score(test_true, test_all_pred, k=5)\n",
        "\n",
        "print(\n",
        "  '\\ttest loss', round(test_loss, 4), '\\ttest accuracy', round(test_acc, 4), '\\ttest top k accuracy', round(test_topk_acc, 4), \n",
        "  )"
      ],
      "metadata": {
        "colab": {
          "base_uri": "https://localhost:8080/"
        },
        "id": "VUwKU7igRv0L",
        "outputId": "fb7f1620-4f46-47b4-9ce7-33eb22b7a221"
      },
      "execution_count": 22,
      "outputs": [
        {
          "output_type": "stream",
          "name": "stderr",
          "text": [
            "100%|██████████| 33/33 [00:25<00:00,  1.31it/s]"
          ]
        },
        {
          "output_type": "stream",
          "name": "stdout",
          "text": [
            "\ttest loss 7.5081 \ttest accuracy 0.932 \ttest top k accuracy 0.9956\n"
          ]
        },
        {
          "output_type": "stream",
          "name": "stderr",
          "text": [
            "\n"
          ]
        }
      ]
    },
    {
      "cell_type": "code",
      "source": [
        "torch.save(ViT, CP_DIR+'final.pt')"
      ],
      "metadata": {
        "id": "q0pX8zsPNpqo"
      },
      "execution_count": 23,
      "outputs": []
    }
  ]
}